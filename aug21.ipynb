{
 "cells": [
  {
   "cell_type": "code",
   "execution_count": 1,
   "metadata": {},
   "outputs": [
    {
     "name": "stdout",
     "output_type": "stream",
     "text": [
      "nohtyp\n"
     ]
    }
   ],
   "source": [
    "def str_rev(input):\n",
    "    return input[::-1]\n",
    "\n",
    "result=str_rev(\"python\")\n",
    "print(result)"
   ]
  },
  {
   "cell_type": "code",
   "execution_count": 4,
   "metadata": {},
   "outputs": [
    {
     "name": "stdout",
     "output_type": "stream",
     "text": [
      "first we can define a method after define method we can call it returns none\n"
     ]
    }
   ],
   "source": [
    "s='first we can define a method after define method we can call it returns none'\n",
    "print(s)"
   ]
  },
  {
   "cell_type": "code",
   "execution_count": 9,
   "metadata": {},
   "outputs": [
    {
     "name": "stdout",
     "output_type": "stream",
     "text": [
      "14\n",
      "0.23718514362681298\n",
      "11\n"
     ]
    }
   ],
   "source": [
    "import random\n",
    "print(random.randint(10,15))\n",
    "print(random.random())\n",
    "print(random.randrange(10,15))"
   ]
  },
  {
   "cell_type": "code",
   "execution_count": 22,
   "metadata": {},
   "outputs": [
    {
     "name": "stdout",
     "output_type": "stream",
     "text": [
      "A a\n"
     ]
    }
   ],
   "source": [
    "import random\n",
    "#for i in range(5):\n",
    "print(chr(65),chr(97),)"
   ]
  },
  {
   "cell_type": "code",
   "execution_count": 55,
   "metadata": {},
   "outputs": [
    {
     "name": "stdout",
     "output_type": "stream",
     "text": [
      "K r @ 38172\n"
     ]
    }
   ],
   "source": [
    "import random\n",
    "l=[\"@\",\"$\",\"#\",\"&\"]\n",
    "print(chr(random.randint(65,90)),chr(random.randint(97,122)),random.choice(l),random.randint(10000,53420))"
   ]
  },
  {
   "cell_type": "code",
   "execution_count": 86,
   "metadata": {},
   "outputs": [
    {
     "name": "stdout",
     "output_type": "stream",
     "text": [
      "#0l8330V\n"
     ]
    }
   ],
   "source": [
    "def gen_pass(num=8):\n",
    "    upper=chr(random.randint(65,90))\n",
    "    lower=chr(random.randint(97,122))\n",
    "    special_chars=[\"$\",\"#\",\"&\"]\n",
    "    special=random.choice(special_chars)\n",
    "    digits=random.randint(10000,99999)\n",
    "    password=upper+lower+special+str(digits)\n",
    "    l=random.sample(password,num)\n",
    "    return (\"\").join(l)\n",
    "result=gen_pass()\n",
    "print(result)"
   ]
  },
  {
   "cell_type": "code",
   "execution_count": 87,
   "metadata": {},
   "outputs": [
    {
     "name": "stdout",
     "output_type": "stream",
     "text": [
      "Help on built-in function print in module builtins:\n",
      "\n",
      "print(...)\n",
      "    print(value, ..., sep=' ', end='\\n', file=sys.stdout, flush=False)\n",
      "    \n",
      "    Prints the values to a stream, or to sys.stdout by default.\n",
      "    Optional keyword arguments:\n",
      "    file:  a file-like object (stream); defaults to the current sys.stdout.\n",
      "    sep:   string inserted between values, default a space.\n",
      "    end:   string appended after the last value, default a newline.\n",
      "    flush: whether to forcibly flush the stream.\n",
      "\n"
     ]
    }
   ],
   "source": [
    "help(print)\n"
   ]
  },
  {
   "cell_type": "code",
   "execution_count": 89,
   "metadata": {},
   "outputs": [
    {
     "name": "stdout",
     "output_type": "stream",
     "text": [
      "valid credintials\n"
     ]
    }
   ],
   "source": [
    "#positional\n",
    "#default\n",
    "# keyword arguments\n",
    "def login(username,password):\n",
    "    if username==\"abc\" and password==\"ab\":\n",
    "        print(\"valid credintials\")\n",
    "    else:\n",
    "        print(\"invald credintials\")\n",
    "        \n",
    "login(password=\"ab\",username=\"abc\")"
   ]
  },
  {
   "cell_type": "code",
   "execution_count": 91,
   "metadata": {},
   "outputs": [
    {
     "name": "stdout",
     "output_type": "stream",
     "text": [
      "(10, 45, 34, 34, 787)\n",
      "(19, 33)\n",
      "()\n"
     ]
    },
    {
     "data": {
      "text/plain": [
       "0"
      ]
     },
     "execution_count": 91,
     "metadata": {},
     "output_type": "execute_result"
    }
   ],
   "source": [
    "#variable length positional\n",
    "def add(*args):\n",
    "    print(args)\n",
    "    return sum(args)\n",
    "add(10,45,34,34,787)\n",
    "add(19,33)\n",
    "add()"
   ]
  },
  {
   "cell_type": "code",
   "execution_count": 92,
   "metadata": {},
   "outputs": [
    {
     "name": "stdout",
     "output_type": "stream",
     "text": [
      "{'username': 'abc', 'email': 'vijay@gmail.com', 'phonenumber': 8945545445, 'dob': '10/06/1996'}\n",
      "{'email': 'vijay@gmail.com', 'phonenumber': 8945545445}\n",
      "{'username': 'abc', 'email': 'vijay@gmail.com', 'dob': '10/06/1996'}\n"
     ]
    }
   ],
   "source": [
    "#variable length keyword\n",
    "#form username,email,phonenumber,dob\n",
    "def get_details(**kwargs):\n",
    "    print(kwargs)\n",
    "get_details(username=\"abc\",email=\"vijay@gmail.com\",phonenumber=8945545445,dob=\"10/06/1996\")\n",
    "get_details(email=\"vijay@gmail.com\",phonenumber=8945545445)\n",
    "get_details(username=\"abc\",email=\"vijay@gmail.com\",dob=\"10/06/1996\")"
   ]
  },
  {
   "cell_type": "code",
   "execution_count": 94,
   "metadata": {},
   "outputs": [
    {
     "name": "stdout",
     "output_type": "stream",
     "text": [
      "{'username': 'abc', 'email': 'vijay@gmail.com', 'phonenumber': 8945545445, 'dob': '10/06/1996'}\n"
     ]
    },
    {
     "ename": "TypeError",
     "evalue": "get_details() missing 2 required positional arguments: 'num1' and 'mum2'",
     "output_type": "error",
     "traceback": [
      "\u001b[1;31m---------------------------------------------------------------------------\u001b[0m",
      "\u001b[1;31mTypeError\u001b[0m                                 Traceback (most recent call last)",
      "\u001b[1;32m<ipython-input-94-7ba23bc61712>\u001b[0m in \u001b[0;36m<module>\u001b[1;34m\u001b[0m\n\u001b[0;32m      2\u001b[0m     \u001b[0mprint\u001b[0m\u001b[1;33m(\u001b[0m\u001b[0mkwargs\u001b[0m\u001b[1;33m)\u001b[0m\u001b[1;33m\u001b[0m\u001b[1;33m\u001b[0m\u001b[0m\n\u001b[0;32m      3\u001b[0m \u001b[0mget_details\u001b[0m\u001b[1;33m(\u001b[0m\u001b[1;36m10\u001b[0m\u001b[1;33m,\u001b[0m\u001b[1;36m20\u001b[0m\u001b[1;33m,\u001b[0m\u001b[1;36m30\u001b[0m\u001b[1;33m,\u001b[0m\u001b[1;36m40\u001b[0m\u001b[1;33m,\u001b[0m\u001b[1;36m50\u001b[0m\u001b[1;33m,\u001b[0m\u001b[0musername\u001b[0m\u001b[1;33m=\u001b[0m\u001b[1;34m\"abc\"\u001b[0m\u001b[1;33m,\u001b[0m\u001b[0memail\u001b[0m\u001b[1;33m=\u001b[0m\u001b[1;34m\"vijay@gmail.com\"\u001b[0m\u001b[1;33m,\u001b[0m\u001b[0mphonenumber\u001b[0m\u001b[1;33m=\u001b[0m\u001b[1;36m8945545445\u001b[0m\u001b[1;33m,\u001b[0m\u001b[0mdob\u001b[0m\u001b[1;33m=\u001b[0m\u001b[1;34m\"10/06/1996\"\u001b[0m\u001b[1;33m)\u001b[0m\u001b[1;33m\u001b[0m\u001b[1;33m\u001b[0m\u001b[0m\n\u001b[1;32m----> 4\u001b[1;33m \u001b[0mget_details\u001b[0m\u001b[1;33m(\u001b[0m\u001b[0memail\u001b[0m\u001b[1;33m=\u001b[0m\u001b[1;34m\"vijay@gmail.com\"\u001b[0m\u001b[1;33m,\u001b[0m\u001b[0mphonenumber\u001b[0m\u001b[1;33m=\u001b[0m\u001b[1;36m8945545445\u001b[0m\u001b[1;33m)\u001b[0m\u001b[1;33m\u001b[0m\u001b[1;33m\u001b[0m\u001b[0m\n\u001b[0m\u001b[0;32m      5\u001b[0m \u001b[0mget_details\u001b[0m\u001b[1;33m(\u001b[0m\u001b[0musername\u001b[0m\u001b[1;33m=\u001b[0m\u001b[1;34m\"abc\"\u001b[0m\u001b[1;33m,\u001b[0m\u001b[0memail\u001b[0m\u001b[1;33m=\u001b[0m\u001b[1;34m\"vijay@gmail.com\"\u001b[0m\u001b[1;33m,\u001b[0m\u001b[0mdob\u001b[0m\u001b[1;33m=\u001b[0m\u001b[1;34m\"10/06/1996\"\u001b[0m\u001b[1;33m)\u001b[0m\u001b[1;33m\u001b[0m\u001b[1;33m\u001b[0m\u001b[0m\n",
      "\u001b[1;31mTypeError\u001b[0m: get_details() missing 2 required positional arguments: 'num1' and 'mum2'"
     ]
    }
   ],
   "source": [
    "def get_details(num1,mum2,*args,**kwargs):\n",
    "    print(kwargs)\n",
    "get_details(10,20,30,40,50,username=\"abc\",email=\"vijay@gmail.com\",phonenumber=8945545445,dob=\"10/06/1996\")\n",
    "get_details(email=\"vijay@gmail.com\",phonenumber=8945545445)\n",
    "get_details(username=\"abc\",email=\"vijay@gmail.com\",dob=\"10/06/1996\")"
   ]
  },
  {
   "cell_type": "code",
   "execution_count": 101,
   "metadata": {},
   "outputs": [
    {
     "name": "stdout",
     "output_type": "stream",
     "text": [
      "pythonjavac\n"
     ]
    }
   ],
   "source": [
    "def add(num1,num2,num3):\n",
    "    return num1+num2+num3\n",
    "#l=\"pqr\"\n",
    "#print(add(*l))  #positional arguments\n",
    "#d={1:\"python\",2:\"java\",3:\"c\"}\n",
    "#rint(add(*d))\n",
    "d={\"num1\":\"python\",\"num2\":\"java\",\"num3\":\"c\"} #order is different out put is same\n",
    "print(add(**d))"
   ]
  },
  {
   "cell_type": "code",
   "execution_count": null,
   "metadata": {},
   "outputs": [],
   "source": [
    "1.positinal => total no ars in func def and func call should be same\n",
    "2.keyword   =>args in func def,use those in func call,u can chane the oreder\n",
    "3.default  =>set default value in func def\n",
    "4.var positional =>*args=>tuple\n",
    "5.var length keyword  =>**keywords=>duct\n",
    "6.unpacking      =>*var name,len of the iterable should be eaqual no of parameters"
   ]
  },
  {
   "cell_type": "code",
   "execution_count": 102,
   "metadata": {},
   "outputs": [
    {
     "name": "stdout",
     "output_type": "stream",
     "text": [
      "100\n"
     ]
    }
   ],
   "source": [
    "def printval():\n",
    "    num1=100\n",
    "    print(\"inside func\",num1)\n",
    "num1=100\n",
    "print(num1)"
   ]
  },
  {
   "cell_type": "code",
   "execution_count": 5,
   "metadata": {},
   "outputs": [
    {
     "name": "stdout",
     "output_type": "stream",
     "text": [
      "['1', '2', '3', '4', '5']\n"
     ]
    }
   ],
   "source": [
    "import re\n",
    "s='ABCD12345'\n",
    "r=re.compile(\"[a-z0-9]\")\n",
    "l=re.findall(r,s)\n",
    "print(l)"
   ]
  },
  {
   "cell_type": "code",
   "execution_count": 12,
   "metadata": {},
   "outputs": [
    {
     "name": "stdout",
     "output_type": "stream",
     "text": [
      "[]\n"
     ]
    }
   ],
   "source": [
    "import re\n",
    "s=\"ABCDE1224A\"\n",
    "r=re.compile(\"[A-z]{5}[0-9]{4}[a-z]\")\n",
    "l=re.findall(r,s)\n",
    "print(l)"
   ]
  },
  {
   "cell_type": "code",
   "execution_count": 10,
   "metadata": {},
   "outputs": [
    {
     "name": "stdout",
     "output_type": "stream",
     "text": [
      "['7865678659']\n"
     ]
    }
   ],
   "source": [
    "import re\n",
    "s=\"7865678659\"\n",
    "r=re.compile(\"^[6-9][0-9]{9}$\")\n",
    "l=re.findall(r,s)\n",
    "print(l)"
   ]
  },
  {
   "cell_type": "code",
   "execution_count": null,
   "metadata": {},
   "outputs": [],
   "source": [
    "import re\n",
    "s=\"python\"\n",
    "r=re"
   ]
  },
  {
   "cell_type": "code",
   "execution_count": 23,
   "metadata": {},
   "outputs": [
    {
     "name": "stdout",
     "output_type": "stream",
     "text": [
      "<re.Match object; span=(0, 14), match='+91-9087678765'>\n",
      "<re.Match object; span=(0, 14), match='+91-9087678765'>\n"
     ]
    }
   ],
   "source": [
    "import re\n",
    "s=\"+91-9087678765\"\n",
    "r=re.compile(\"^(\\+91-)?[6-9][0-9]{9}$\")\n",
    "l=re.search(r,s)\n",
    "print(l)\n",
    "#print(l.group())\n",
    "#print(l.group(1))\n",
    "#if l:\n",
    " #   print(l.group(2))\n",
    "#else:\n",
    " #   print(pattern)\n",
    "print(l)"
   ]
  },
  {
   "cell_type": "code",
   "execution_count": 24,
   "metadata": {},
   "outputs": [
    {
     "name": "stdout",
     "output_type": "stream",
     "text": [
      "None\n"
     ]
    }
   ],
   "source": [
    "import re\n",
    "s=\"https://www.edyoda.com\"\n",
    "s1=\"http://www.edyoda.com\"\n",
    "r=re.compile(\"(www.)[a-z](.com)$\")\n",
    "l=re.search(r,s)\n",
    "print(l)"
   ]
  },
  {
   "cell_type": "code",
   "execution_count": 29,
   "metadata": {},
   "outputs": [
    {
     "name": "stdout",
     "output_type": "stream",
     "text": [
      "www.edyoda.com\n"
     ]
    }
   ],
   "source": [
    "import re\n",
    "s=\"https://www.edyoda.com\"\n",
    "s1=\"http://www.edyoda.com\"\n",
    "r=re.compile(\"http[s]?://(www\\.[a-z]+.com)$\")\n",
    "m=re.search(r,s)\n",
    "if m:\n",
    "    print(m.group(1))\n",
    "else:\n",
    "    print(\"invalid url\")"
   ]
  },
  {
   "cell_type": "code",
   "execution_count": 35,
   "metadata": {},
   "outputs": [
    {
     "name": "stdout",
     "output_type": "stream",
     "text": [
      "abcd123@xyz.com\n"
     ]
    }
   ],
   "source": [
    "s=\"abcd123@xyz.com\"\n",
    "r=re.compile(\"^[a-z0-9\\.-]+@[a-z]+\\.com$\")\n",
    "m=re.search(r,s)\n",
    "if m:\n",
    "    print(m.group())\n",
    "else:\n",
    "    print(\"Invalid email\")\n",
    "#print(m)"
   ]
  },
  {
   "cell_type": "code",
   "execution_count": 67,
   "metadata": {},
   "outputs": [
    {
     "ename": "TypeError",
     "evalue": "findall() missing 1 required positional argument: 'string'",
     "output_type": "error",
     "traceback": [
      "\u001b[1;31m---------------------------------------------------------------------------\u001b[0m",
      "\u001b[1;31mTypeError\u001b[0m                                 Traceback (most recent call last)",
      "\u001b[1;32m<ipython-input-67-de82e90579a7>\u001b[0m in \u001b[0;36m<module>\u001b[1;34m\u001b[0m\n\u001b[0;32m      1\u001b[0m \u001b[0ms\u001b[0m\u001b[1;33m=\u001b[0m\u001b[1;34m\"31-14-2019\"\u001b[0m\u001b[1;33m\u001b[0m\u001b[1;33m\u001b[0m\u001b[0m\n\u001b[1;32m----> 2\u001b[1;33m \u001b[0mr\u001b[0m\u001b[1;33m=\u001b[0m\u001b[0mre\u001b[0m\u001b[1;33m.\u001b[0m\u001b[0mfindall\u001b[0m\u001b[1;33m(\u001b[0m\u001b[1;34m\"^(?p<day>[0-9]{2})-(?p<month>[0-9]{2})-(?p<year>[0-9]{4})\"\u001b[0m\u001b[1;33m)\u001b[0m\u001b[1;33m\u001b[0m\u001b[1;33m\u001b[0m\u001b[0m\n\u001b[0m\u001b[0;32m      3\u001b[0m \u001b[0mm\u001b[0m\u001b[1;33m=\u001b[0m\u001b[0mre\u001b[0m\u001b[1;33m.\u001b[0m\u001b[0msearch\u001b[0m\u001b[1;33m(\u001b[0m\u001b[0mr\u001b[0m\u001b[1;33m,\u001b[0m\u001b[0ms\u001b[0m\u001b[1;33m)\u001b[0m\u001b[1;33m\u001b[0m\u001b[1;33m\u001b[0m\u001b[0m\n\u001b[0;32m      4\u001b[0m \u001b[1;32mif\u001b[0m \u001b[0mm\u001b[0m\u001b[1;33m:\u001b[0m\u001b[1;33m\u001b[0m\u001b[1;33m\u001b[0m\u001b[0m\n\u001b[0;32m      5\u001b[0m     \u001b[0mprint\u001b[0m\u001b[1;33m(\u001b[0m\u001b[0mm\u001b[0m\u001b[1;33m.\u001b[0m\u001b[0mgroup\u001b[0m\u001b[1;33m(\u001b[0m\u001b[1;36m1\u001b[0m\u001b[1;33m)\u001b[0m\u001b[1;33m)\u001b[0m\u001b[1;33m\u001b[0m\u001b[1;33m\u001b[0m\u001b[0m\n",
      "\u001b[1;31mTypeError\u001b[0m: findall() missing 1 required positional argument: 'string'"
     ]
    }
   ],
   "source": [
    "s=\"31-14-2019\"\n",
    "r=re.findall(\"^(?p<day>[0-9]{2})-(?p<month>[0-9]{2})-(?p<year>[0-9]{4})\")\n",
    "m=re.search(r,s)\n",
    "if m:\n",
    "    print(m.group(1))\n",
    "else:\n",
    "    print(\"Invalid email\")"
   ]
  },
  {
   "cell_type": "code",
   "execution_count": 62,
   "metadata": {},
   "outputs": [
    {
     "name": "stdout",
     "output_type": "stream",
     "text": [
      "PEP 538: Legacy C Locale Coercion\n"
     ]
    }
   ],
   "source": [
    "fb=open(\"bhaskar.txt\",\"r\",encoding=\"utf-8\")\n",
    "data=fb.read()\n",
    "import re\n",
    "#r=re.compile(\"[A-Z]{3}\\s[0-9]{3}:\\s[A-Za-z]+\")\n",
    "r=re.compile(\"PEP\\s[0-9]{3}:\\s[a-zA-Z ]+\")\n",
    "m=re.search(r,data)\n",
    "if m:\n",
    "    print(m.group())\n",
    "else:\n",
    "    print(\"no data\")"
   ]
  },
  {
   "cell_type": "code",
   "execution_count": 66,
   "metadata": {},
   "outputs": [
    {
     "name": "stdout",
     "output_type": "stream",
     "text": [
      "PEP 538: Legacy C Locale Coercion\n",
      "PEP 540: Forced UTF\n",
      "PEP 540: Forced UTF\n",
      "PEP 540: Forced UTF\n",
      "PEP 553: Built\n",
      "PEP 539: New C API for Thread\n",
      "PEP 562: Customization of Access to Module Attributes\n",
      "PEP 564: New Time Functions With Nanosecond Resolution\n",
      "PEP 565: Show DeprecationWarning in __main__\n",
      "PEP 560: Core Support for typing module and Generic Types\n",
      "PEP 552: Hash\n",
      "PEP 545: Python Documentation Translations\n"
     ]
    }
   ],
   "source": [
    "fb=open(\"bhaskar.txt\",\"r\",encoding=\"utf-8\")\n",
    "data=fb.read()\n",
    "import re\n",
    "r=re.compile(\"PEP\\s[0-9]{3}:\\s[a-zA-z ]+\")\n",
    "m=re.findall(r,data)\n",
    "#print(m)\n",
    "s=(\"\\n\").join(m)\n",
    "print(s)\n",
    "fp2=open(\"bhaskar3.txt\",\"w\")\n",
    "fp2.writelines(1)\n",
    "fp2.close()"
   ]
  },
  {
   "cell_type": "code",
   "execution_count": null,
   "metadata": {},
   "outputs": [],
   "source": []
  },
  {
   "cell_type": "code",
   "execution_count": null,
   "metadata": {},
   "outputs": [],
   "source": []
  },
  {
   "cell_type": "code",
   "execution_count": null,
   "metadata": {},
   "outputs": [],
   "source": []
  },
  {
   "cell_type": "code",
   "execution_count": null,
   "metadata": {},
   "outputs": [],
   "source": []
  }
 ],
 "metadata": {
  "kernelspec": {
   "display_name": "Python 3",
   "language": "python",
   "name": "python3"
  },
  "language_info": {
   "codemirror_mode": {
    "name": "ipython",
    "version": 3
   },
   "file_extension": ".py",
   "mimetype": "text/x-python",
   "name": "python",
   "nbconvert_exporter": "python",
   "pygments_lexer": "ipython3",
   "version": "3.7.2"
  }
 },
 "nbformat": 4,
 "nbformat_minor": 2
}
