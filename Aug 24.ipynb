{
 "cells": [
  {
   "cell_type": "code",
   "execution_count": null,
   "metadata": {},
   "outputs": [],
   "source": [
    "object oriented programming:\n",
    "    \n",
    "class\n",
    "\n",
    "object"
   ]
  },
  {
   "cell_type": "code",
   "execution_count": null,
   "metadata": {},
   "outputs": [],
   "source": [
    "paytm:\n",
    "    phoneno\n",
    "    email\n",
    "    kyc\n",
    "    \n",
    "    recharge\n",
    "    book tickts\n",
    "    \n",
    "    \n",
    "user 1\n",
    "user 2"
   ]
  },
  {
   "cell_type": "code",
   "execution_count": 18,
   "metadata": {},
   "outputs": [
    {
     "name": "stdout",
     "output_type": "stream",
     "text": [
      "101 bhaskar bhaskar@gmail.com 9014452304\n"
     ]
    },
    {
     "ename": "AttributeError",
     "evalue": "'Emp' object has no attribute 'dept_name'",
     "output_type": "error",
     "traceback": [
      "\u001b[1;31m---------------------------------------------------------------------------\u001b[0m",
      "\u001b[1;31mAttributeError\u001b[0m                            Traceback (most recent call last)",
      "\u001b[1;32m<ipython-input-18-99794c00b2c4>\u001b[0m in \u001b[0;36m<module>\u001b[1;34m\u001b[0m\n\u001b[0;32m     24\u001b[0m \u001b[0memp3\u001b[0m\u001b[1;33m=\u001b[0m\u001b[0mEmp\u001b[0m\u001b[1;33m(\u001b[0m\u001b[1;36m103\u001b[0m\u001b[1;33m,\u001b[0m\u001b[1;34m\"sreenu\"\u001b[0m\u001b[1;33m,\u001b[0m\u001b[1;34m\"sreenu@gmail.com\"\u001b[0m\u001b[1;33m,\u001b[0m\u001b[1;34m\"8500234107\"\u001b[0m\u001b[1;33m)\u001b[0m\u001b[1;33m\u001b[0m\u001b[1;33m\u001b[0m\u001b[0m\n\u001b[0;32m     25\u001b[0m \u001b[1;33m\u001b[0m\u001b[0m\n\u001b[1;32m---> 26\u001b[1;33m \u001b[0memp1\u001b[0m\u001b[1;33m.\u001b[0m\u001b[0mdept_name\u001b[0m\u001b[1;33m(\u001b[0m\u001b[1;34m\"Admin\"\u001b[0m\u001b[1;33m)\u001b[0m\u001b[1;33m\u001b[0m\u001b[1;33m\u001b[0m\u001b[0m\n\u001b[0m\u001b[0;32m     27\u001b[0m \u001b[0memp2\u001b[0m\u001b[1;33m.\u001b[0m\u001b[0mdept_name\u001b[0m\u001b[1;33m(\u001b[0m\u001b[1;34m\"HR\"\u001b[0m\u001b[1;33m)\u001b[0m\u001b[1;33m\u001b[0m\u001b[1;33m\u001b[0m\u001b[0m\n\u001b[0;32m     28\u001b[0m \u001b[0memp1\u001b[0m\u001b[1;33m.\u001b[0m\u001b[0mset_sal\u001b[0m\u001b[1;33m(\u001b[0m\u001b[1;36m40000\u001b[0m\u001b[1;33m)\u001b[0m\u001b[1;33m\u001b[0m\u001b[1;33m\u001b[0m\u001b[0m\n",
      "\u001b[1;31mAttributeError\u001b[0m: 'Emp' object has no attribute 'dept_name'"
     ]
    }
   ],
   "source": [
    "class Emp:\n",
    "    count=0\n",
    "    emps=[]\n",
    "    \n",
    "    @classmethod\n",
    "    def incr_count(cls):\n",
    "        cls.count+=1\n",
    "        \n",
    "    @classmethod:\n",
    "    def add_emp(cls,obj):\n",
    "        cls.emps.append(obj)\n",
    "        \n",
    "    def __init__(self,id,name,email,contact):\n",
    "        self.id=id\n",
    "        self.name=name\n",
    "        self.email=email\n",
    "        self.contact=contact\n",
    "        Emp.count+=1\n",
    "        Emp.emps.append(self)\n",
    "    def set_dept(self,dept_name):\n",
    "        self.dept=dept_name\n",
    "        \n",
    "    def set_sal(self,sal):\n",
    "        self.sal=sal\n",
    "        \n",
    "    def incr_sal(self,per):\n",
    "        self.sal=self.sal+(self.sal*per)/100\n",
    "        \n",
    "    def __str__(self):\n",
    "        return \"{}{}{}\".format(self.id,self.name,self.email)\n",
    "\n",
    "emp1=Emp(101,\"bhaskar\",\"bhaskar@gmail.com\",\"9014452304\")\n",
    "print(emp1.id,emp1.name,emp1.email,emp1.contact)\n",
    "emp2=Emp(102,\"vijay\",\"viajay@gmail.com\",\"8555954883\")\n",
    "\n",
    "emp3=Emp(103,\"sreenu\",\"sreenu@gmail.com\",\"8500234107\")\n",
    "\n",
    "emp1.dept_name(\"Admin\")\n",
    "emp2.dept_name(\"HR\")\n",
    "emp1.set_sal(40000)\n",
    "emp2.set_sal(65000)\n",
    "emp3.set_sal(7000)\n",
    "\n",
    "emp1.incr_sal(30)\n",
    "print(emp1.__dict__)\n",
    "if sal>50000 and dept_name==\"HR\":\n",
    "    print(__dict__)"
   ]
  },
  {
   "cell_type": "code",
   "execution_count": 48,
   "metadata": {},
   "outputs": [
    {
     "name": "stdout",
     "output_type": "stream",
     "text": [
      "python deep learning\n",
      "python machine learning\n",
      "{'java': 1, 'python': 2}\n"
     ]
    }
   ],
   "source": [
    "class Course:\n",
    "    courses=[]\n",
    "    def __init__(self,c_id,c_name,c_author,c_category):\n",
    "        self.c_id=c_id\n",
    "        self.c_name=c_name\n",
    "        self.c_author=c_author\n",
    "        self.c_category=c_category\n",
    "        Course.courses.append(self)\n",
    "        \n",
    "\n",
    "class Tutorial:\n",
    "    tuts=[]\n",
    "    def __init__(self,t_id,t_name,t_content,t_course):\n",
    "        self.t_id=t_id\n",
    "        self.t_name=t_name\n",
    "        self.t_content=t_content\n",
    "        self.t_course=t_course\n",
    "        Tutorial.tuts.append(self)\n",
    "        \n",
    "course1=Course(101,\"java\",\"james\",\"web application\")\n",
    "course2=Course(102,\"python\",\"guido\",\"Analytics\")\n",
    "course3=Course(103,\"python\",\"guido\",\"deepleaening\")\n",
    "        \n",
    "tut1=Tutorial(201,\"python\",\"machin learning\",course1)\n",
    "tut2=Tutorial(202,\"python\",\"deep learning\",course2)\n",
    "tut3=Tutorial(203,\"python\",\"machine learning\",course3)\n",
    "\n",
    "for tut in Tutorial.tuts:\n",
    "    if tut.t_course.c_author == \"guido\":\n",
    "        print(tut.t_name,tut.t_content)\n",
    "        \n",
    "tut_count={}\n",
    "for tut in Tutorial.tuts:\n",
    "    if tut.t_course.c_name in tut_count:\n",
    "        tut_count[tut.t_course.c_name] +=1\n",
    "    else:\n",
    "        tut_count[tut.t_course.c_name] =1\n",
    "print(tut_count)"
   ]
  },
  {
   "cell_type": "code",
   "execution_count": 60,
   "metadata": {},
   "outputs": [
    {
     "name": "stdout",
     "output_type": "stream",
     "text": [
      "{'id': 1, 'name': 'abc', 'email': 'abc@gmail.com', 'password': 'test@gmail.com', 'contact': '9014452304', 'linkedin': 'www.linkdin/abc.com'}\n"
     ]
    }
   ],
   "source": [
    "#inheritance\n",
    "class User:\n",
    "    def __init__(self,id,name,email,password):\n",
    "        self.id=id\n",
    "        self.name=name\n",
    "        self.email=email\n",
    "        self.password=password\n",
    "        \n",
    "    def get_details(self):\n",
    "        return \"{}{}\".format(self.id,self.name)\n",
    "    \n",
    "class Admin:\n",
    "    def get_details(self):\n",
    "        return \"It is a Admin method\"\n",
    "    \n",
    "    \n",
    "class Profile(User):\n",
    "    def __init__(self,id,name,email,password,contact,linkedin):\n",
    "        super().__init__(id,name,email,password)\n",
    "        self.contact=contact\n",
    "        self.linkedin=linkedin\n",
    "        \n",
    "    def get_details(self):\n",
    "        name_details=super().get_details()\n",
    "        return \"{} {} {}\".format(name_details,self.contact,self.linkedin)\n",
    "        \n",
    "p1=Profile(1,\"abc\",\"abc@gmail.com\",\"test@gmail.com\",\"9014452304\",\"www.linkdin/abc.com\")\n",
    "print(p1.__dict__)\n",
    "#help(p1)"
   ]
  },
  {
   "cell_type": "code",
   "execution_count": null,
   "metadata": {},
   "outputs": [],
   "source": [
    "from abc import ABC\n",
    "form abc import Abstractmethod\n",
    "\n",
    "class User:\n",
    "    def get_details(self):\n",
    "        pass"
   ]
  },
  {
   "cell_type": "code",
   "execution_count": null,
   "metadata": {},
   "outputs": [],
   "source": [
    "#exception Handling\n",
    "\n",
    "1.syntax errors\n",
    "2.logical errors\n",
    "    index error \n",
    "    key error\n",
    "    Unsupported Operation"
   ]
  },
  {
   "cell_type": "code",
   "execution_count": 79,
   "metadata": {},
   "outputs": [
    {
     "name": "stdout",
     "output_type": "stream",
     "text": [
      "user defined exception is raise value of variable less than 50\n",
      "This exception will always get executed\n",
      "statements afer try block\n"
     ]
    }
   ],
   "source": [
    "class ValueLessThan50(Exception):\n",
    "    pass\n",
    "a=20\n",
    "try:\n",
    "    if a<50:\n",
    "        raise ValueLessThan50(\"value of variable less than 50\")\n",
    "\n",
    "    raise IndexError\n",
    "    #print(10/0)\n",
    "    #l=[10,20,30,40]\n",
    "    #l=l[100]\n",
    "except ValueLessThan50 as e:\n",
    "    print(\"user defined exception is raise\",e)\n",
    "except IndexError:\n",
    "    print(\"invalid index\")\n",
    "except NameError:\n",
    "    print(\"variable not defined\")\n",
    "except Exception as e:    #It can be find a exception name\n",
    "    print(\"something went wrong--\",e)\n",
    "else:\n",
    "    print(\"No exception raised\")\n",
    "finally:\n",
    "    print(\"This exception will always get executed\")\n",
    "print(\"statements afer try block\")\n"
   ]
  },
  {
   "cell_type": "code",
   "execution_count": 63,
   "metadata": {},
   "outputs": [],
   "source": [
    "#print(dir(__builtins__))\n"
   ]
  },
  {
   "cell_type": "code",
   "execution_count": null,
   "metadata": {},
   "outputs": [],
   "source": [
    "connect()\n",
    "   host =\"\"\n",
    "   database =\"\"\n",
    "   user =\"\"\n",
    "    password"
   ]
  },
  {
   "cell_type": "code",
   "execution_count": 121,
   "metadata": {},
   "outputs": [
    {
     "name": "stdout",
     "output_type": "stream",
     "text": [
      "<connection object at 0x000001F9240D7D08; dsn: 'user=postgres password=xxx dbname=emp host=localhost', closed: 0>\n",
      "<cursor object at 0x000001F924B903C8; closed: 0>\n"
     ]
    }
   ],
   "source": [
    "import psycopg2\n",
    "con=psycopg2.connect(user =\"postgres\",password=\"Sreenu@44\",host=\"localhost\",database=\"emp\")\n",
    "print(con)\n",
    "cur=con.cursor()\n",
    "print(cur)\n",
    "cur.execute(\"\"\"create table EMP2(Id INT,Name Varchar(32),Email varchar(32))\"\"\")\n",
    "cur.execute(\"\"\"INSERT INTO EMP2(ID,NAME,EMAIL) VALUES (101,'vijay','vijay@gmail.com')\"\"\")\n",
    "con.rollback()"
   ]
  },
  {
   "cell_type": "code",
   "execution_count": 138,
   "metadata": {},
   "outputs": [
    {
     "name": "stdout",
     "output_type": "stream",
     "text": [
      "[(102, 'bhaskar', 'bhaskar@gmail.com')]\n"
     ]
    },
    {
     "data": {
      "text/plain": [
       "<sqlite3.Cursor at 0x1f924c58ea0>"
      ]
     },
     "execution_count": 138,
     "metadata": {},
     "output_type": "execute_result"
    }
   ],
   "source": [
    "#connection object is used to close,commit,rollback\n",
    "import sqlite3\n",
    "conn=sqlite3.connect(database= \"test_db1.db\")\n",
    "cur=conn.cursor()\n",
    "cur.execute(\"\"\"CREATE TABLE EMP5(ID INT,NAME VARCHAR(32),EMAIL VARCHAR(32))\"\"\")\n",
    "cur.execute(\"\"\"INSERT INTO EMP5(ID,NAME,EMAIL) VALUES (102,'bhaskar','bhaskar@gmail.com')\"\"\")\n",
    "cur.execute('SELECT *FROM EMP5')\n",
    "#print(cur)\n",
    "#print(next(cur))\n",
    "#print(next(cur))\n",
    "print(cur.fetchall())\n",
    "cur.execute(\"\"\"UPDATE EMP5 SET NAME='PRUTHVI' WHERE ID=102\"\"\")"
   ]
  },
  {
   "cell_type": "code",
   "execution_count": 145,
   "metadata": {},
   "outputs": [],
   "source": [
    "from pymongo import MongoClient"
   ]
  },
  {
   "cell_type": "code",
   "execution_count": 146,
   "metadata": {},
   "outputs": [],
   "source": [
    "client=MongoClient('localhost',27017)"
   ]
  },
  {
   "cell_type": "code",
   "execution_count": 147,
   "metadata": {},
   "outputs": [],
   "source": [
    "db=client.db_test2  #creating a database name\n"
   ]
  },
  {
   "cell_type": "code",
   "execution_count": 150,
   "metadata": {},
   "outputs": [],
   "source": [
    "collection =db.emp"
   ]
  },
  {
   "cell_type": "code",
   "execution_count": 151,
   "metadata": {},
   "outputs": [
    {
     "data": {
      "text/plain": [
       "<pymongo.results.InsertOneResult at 0x1f924ec1288>"
      ]
     },
     "execution_count": 151,
     "metadata": {},
     "output_type": "execute_result"
    }
   ],
   "source": [
    "#insert_one()\n",
    "#insert_many()\n",
    "#insert()\n",
    "collection.insert_one({'id':101,'name':\"bhaskar\",'salary':12000})"
   ]
  },
  {
   "cell_type": "code",
   "execution_count": 153,
   "metadata": {},
   "outputs": [
    {
     "data": {
      "text/plain": [
       "<pymongo.results.InsertManyResult at 0x1f924ec1148>"
      ]
     },
     "execution_count": 153,
     "metadata": {},
     "output_type": "execute_result"
    }
   ],
   "source": [
    "collection.insert_many([{'id':101,'name':\"bhaskar\",'salary':12000},{'id':102,'name':\"vijay\",'email':\"vijay@gmail.com\",'phone':9014452304,'address':\"banglore\"}])\n",
    "#inser many list of dictionaries"
   ]
  },
  {
   "cell_type": "code",
   "execution_count": 154,
   "metadata": {},
   "outputs": [
    {
     "name": "stdout",
     "output_type": "stream",
     "text": [
      "<pymongo.cursor.Cursor object at 0x000001F924EB7710>\n"
     ]
    }
   ],
   "source": [
    "g=collection.find()\n",
    "print(g)"
   ]
  },
  {
   "cell_type": "code",
   "execution_count": 155,
   "metadata": {},
   "outputs": [
    {
     "name": "stdout",
     "output_type": "stream",
     "text": [
      "{'_id': ObjectId('5d61222e07f4e010bb192281'), 'id': 101, 'name': 'bhaskar', 'salary': 12000}\n",
      "{'_id': ObjectId('5d61235507f4e010bb192282'), 'id': 101, 'name': 'bhaskar', 'salary': 12000}\n",
      "{'_id': ObjectId('5d61235507f4e010bb192283'), 'id': 102, 'name': 'vijay', 'email': 'vijay@gmail.com', 'phone': 9014452304, 'address': 'banglore'}\n"
     ]
    }
   ],
   "source": [
    "for v in g:\n",
    "    print(v)"
   ]
  },
  {
   "cell_type": "code",
   "execution_count": 164,
   "metadata": {},
   "outputs": [
    {
     "ename": "SyntaxError",
     "evalue": "invalid syntax (<ipython-input-164-d8de3af3ee21>, line 1)",
     "output_type": "error",
     "traceback": [
      "\u001b[1;36m  File \u001b[1;32m\"<ipython-input-164-d8de3af3ee21>\"\u001b[1;36m, line \u001b[1;32m1\u001b[0m\n\u001b[1;33m    obj1=collection.find('name':\"vijay\")\u001b[0m\n\u001b[1;37m                               ^\u001b[0m\n\u001b[1;31mSyntaxError\u001b[0m\u001b[1;31m:\u001b[0m invalid syntax\n"
     ]
    }
   ],
   "source": [
    "obj1=collection.find('name':\"vijay\")\n",
    "print(next(obj1))"
   ]
  },
  {
   "cell_type": "code",
   "execution_count": null,
   "metadata": {},
   "outputs": [],
   "source": [
    "#update_one\n",
    "#up"
   ]
  },
  {
   "cell_type": "code",
   "execution_count": 166,
   "metadata": {},
   "outputs": [
    {
     "name": "stdout",
     "output_type": "stream",
     "text": [
      "{'_id': ObjectId('5d61222e07f4e010bb192281'), 'id': '101', 'name': 'bhaskar', 'salary': 12000, 'email': 'vijay@gmail.com'}\n"
     ]
    }
   ],
   "source": [
    "collection.update_one({'name':'bhaskar'},{'$set':{\"email\":\"vijay@gmail.com\"}})\n",
    "obj1=collection.find({'name':'bhaskar'})\n",
    "print(next(obj1))"
   ]
  },
  {
   "cell_type": "code",
   "execution_count": 160,
   "metadata": {},
   "outputs": [
    {
     "data": {
      "text/plain": [
       "<pymongo.results.UpdateResult at 0x1f924bbcd08>"
      ]
     },
     "execution_count": 160,
     "metadata": {},
     "output_type": "execute_result"
    }
   ],
   "source": [
    "collection.update_many({},{'$set':{\"id\":\"101\"}})\n",
    "collecti"
   ]
  },
  {
   "cell_type": "code",
   "execution_count": 161,
   "metadata": {},
   "outputs": [
    {
     "name": "stdout",
     "output_type": "stream",
     "text": [
      "Help on method update_many in module pymongo.collection:\n",
      "\n",
      "update_many(filter, update, upsert=False, array_filters=None, bypass_document_validation=False, collation=None, session=None) method of pymongo.collection.Collection instance\n",
      "    Update one or more documents that match the filter.\n",
      "    \n",
      "      >>> for doc in db.test.find():\n",
      "      ...     print(doc)\n",
      "      ...\n",
      "      {u'x': 1, u'_id': 0}\n",
      "      {u'x': 1, u'_id': 1}\n",
      "      {u'x': 1, u'_id': 2}\n",
      "      >>> result = db.test.update_many({'x': 1}, {'$inc': {'x': 3}})\n",
      "      >>> result.matched_count\n",
      "      3\n",
      "      >>> result.modified_count\n",
      "      3\n",
      "      >>> for doc in db.test.find():\n",
      "      ...     print(doc)\n",
      "      ...\n",
      "      {u'x': 4, u'_id': 0}\n",
      "      {u'x': 4, u'_id': 1}\n",
      "      {u'x': 4, u'_id': 2}\n",
      "    \n",
      "    :Parameters:\n",
      "      - `filter`: A query that matches the documents to update.\n",
      "      - `update`: The modifications to apply.\n",
      "      - `upsert` (optional): If ``True``, perform an insert if no documents\n",
      "        match the filter.\n",
      "      - `bypass_document_validation` (optional): If ``True``, allows the\n",
      "        write to opt-out of document level validation. Default is\n",
      "        ``False``.\n",
      "      - `collation` (optional): An instance of\n",
      "        :class:`~pymongo.collation.Collation`. This option is only supported\n",
      "        on MongoDB 3.4 and above.\n",
      "      - `array_filters` (optional): A list of filters specifying which\n",
      "        array elements an update should apply. Requires MongoDB 3.6+.\n",
      "      - `session` (optional): a\n",
      "        :class:`~pymongo.client_session.ClientSession`.\n",
      "    \n",
      "    :Returns:\n",
      "      - An instance of :class:`~pymongo.results.UpdateResult`.\n",
      "    \n",
      "    .. note:: `bypass_document_validation` requires server version\n",
      "      **>= 3.2**\n",
      "    \n",
      "    .. versionchanged:: 3.9\n",
      "       Added the ability to accept a pipeline as the `update`.\n",
      "    \n",
      "    .. versionchanged:: 3.6\n",
      "       Added ``array_filters`` and ``session`` parameters.\n",
      "    \n",
      "    .. versionchanged:: 3.4\n",
      "      Added the `collation` option.\n",
      "    \n",
      "    .. versionchanged:: 3.2\n",
      "      Added bypass_document_validation support\n",
      "    \n",
      "    .. versionadded:: 3.0\n",
      "\n"
     ]
    }
   ],
   "source": [
    "help(collection.update_many)"
   ]
  },
  {
   "cell_type": "code",
   "execution_count": null,
   "metadata": {},
   "outputs": [],
   "source": [
    "Delete:\n",
    "    delete_one\n",
    "    delete_many"
   ]
  },
  {
   "cell_type": "code",
   "execution_count": 168,
   "metadata": {},
   "outputs": [
    {
     "data": {
      "text/plain": [
       "<pymongo.results.DeleteResult at 0x1f924e9af88>"
      ]
     },
     "execution_count": 168,
     "metadata": {},
     "output_type": "execute_result"
    }
   ],
   "source": [
    "collection.delete_many({\"id\":'102'})"
   ]
  },
  {
   "cell_type": "code",
   "execution_count": 169,
   "metadata": {},
   "outputs": [
    {
     "name": "stdout",
     "output_type": "stream",
     "text": [
      "{'_id': ObjectId('5d61222e07f4e010bb192281'), 'id': '101', 'name': 'bhaskar', 'salary': 12000, 'email': 'vijay@gmail.com'}\n",
      "{'_id': ObjectId('5d61235507f4e010bb192282'), 'id': '101', 'name': 'bhaskar', 'salary': 12000}\n",
      "{'_id': ObjectId('5d61235507f4e010bb192283'), 'id': '101', 'name': 'vijay', 'email': 'vijay@gmail.com', 'phone': 9014452304, 'address': 'banglore'}\n"
     ]
    }
   ],
   "source": [
    "obj1=collection.find()\n",
    "for row in obj1:\n",
    "    print(row)"
   ]
  },
  {
   "cell_type": "code",
   "execution_count": null,
   "metadata": {},
   "outputs": [],
   "source": []
  },
  {
   "cell_type": "code",
   "execution_count": null,
   "metadata": {},
   "outputs": [],
   "source": []
  }
 ],
 "metadata": {
  "kernelspec": {
   "display_name": "Python 3",
   "language": "python",
   "name": "python3"
  },
  "language_info": {
   "codemirror_mode": {
    "name": "ipython",
    "version": 3
   },
   "file_extension": ".py",
   "mimetype": "text/x-python",
   "name": "python",
   "nbconvert_exporter": "python",
   "pygments_lexer": "ipython3",
   "version": "3.7.2"
  }
 },
 "nbformat": 4,
 "nbformat_minor": 2
}
